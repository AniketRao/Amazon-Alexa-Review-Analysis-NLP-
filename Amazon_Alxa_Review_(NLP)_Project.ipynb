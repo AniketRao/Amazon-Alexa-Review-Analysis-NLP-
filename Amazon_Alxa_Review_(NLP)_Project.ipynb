{
  "nbformat": 4,
  "nbformat_minor": 5,
  "metadata": {
    "kernelspec": {
      "display_name": "Python 3",
      "language": "python",
      "name": "python3"
    },
    "language_info": {
      "codemirror_mode": {
        "name": "ipython",
        "version": 3
      },
      "file_extension": ".py",
      "mimetype": "text/x-python",
      "name": "python",
      "nbconvert_exporter": "python",
      "pygments_lexer": "ipython3",
      "version": "3.8.8"
    },
    "colab": {
      "name": "Copy of Amazon Alxa Review (NLP).Project.ipynb",
      "provenance": [],
      "collapsed_sections": [],
      "include_colab_link": true
    }
  },
  "cells": [
    {
      "cell_type": "markdown",
      "metadata": {
        "id": "view-in-github",
        "colab_type": "text"
      },
      "source": [
        "<a href=\"https://colab.research.google.com/github/AniketRao/Amazon-Alexa-Review-Analysis-NLP-/blob/main/Copy_of_Amazon_Alxa_Review_(NLP)_Project.ipynb\" target=\"_parent\"><img src=\"https://colab.research.google.com/assets/colab-badge.svg\" alt=\"Open In Colab\"/></a>"
      ]
    },
    {
      "cell_type": "markdown",
      "metadata": {
        "id": "DbNAXHc-8Uo2"
      },
      "source": [
        "# Amazon Alexa Reviews(Using NLP)"
      ],
      "id": "DbNAXHc-8Uo2"
    },
    {
      "cell_type": "markdown",
      "metadata": {
        "id": "lsL2Nf098b3V"
      },
      "source": [
        "# 1.Description"
      ],
      "id": "lsL2Nf098b3V"
    },
    {
      "cell_type": "markdown",
      "metadata": {
        "id": "Mur78-Lg8b8b"
      },
      "source": [
        "The data of the reviews of the customers was obtained from Amazon in order to classify the feedbacks of the consumers. "
      ],
      "id": "Mur78-Lg8b8b"
    },
    {
      "cell_type": "markdown",
      "metadata": {
        "id": "CnOT1J5g8b_d"
      },
      "source": [
        "**1.1. CONTEXT**"
      ],
      "id": "CnOT1J5g8b_d"
    },
    {
      "cell_type": "markdown",
      "metadata": {
        "id": "sIwiCRgK8cCn"
      },
      "source": [
        "1.It is important for an any organization to analyze the feedback of the customers in order to make an improvement.\n",
        "\n",
        "2.This dataset consists of a nearly 3000 Amazon customer reviews (input text), star ratings, date of review, variant and feedback of various amazon alexa product."
      ],
      "id": "sIwiCRgK8cCn"
    },
    {
      "cell_type": "markdown",
      "metadata": {
        "id": "81ZrHWlf-vUk"
      },
      "source": [
        "**1.2. PROBLEM STATEMENT**"
      ],
      "id": "81ZrHWlf-vUk"
    },
    {
      "cell_type": "markdown",
      "metadata": {
        "id": "jS8ODM_A-x8p"
      },
      "source": [
        "Classify the class of reviews of Amazon Alexa i.e positive or negative feedback"
      ],
      "id": "jS8ODM_A-x8p"
    },
    {
      "cell_type": "markdown",
      "metadata": {
        "id": "eZXJWzBl-x_k"
      },
      "source": [
        "# 2. Machine Learning Problem Formulation"
      ],
      "id": "eZXJWzBl-x_k"
    },
    {
      "cell_type": "markdown",
      "metadata": {
        "id": "-keZ4uyL-yCZ"
      },
      "source": [
        "**2.1 DATA**"
      ],
      "id": "-keZ4uyL-yCZ"
    },
    {
      "cell_type": "markdown",
      "metadata": {
        "id": "Di1EpVlw-yFS"
      },
      "source": [
        "**2.1 DATA OVERVIEW**"
      ],
      "id": "Di1EpVlw-yFS"
    },
    {
      "cell_type": "markdown",
      "metadata": {
        "id": "n1_wUFKW-yIT"
      },
      "source": [
        "1.Source:https://www.kaggle.com/sid321axn/amazon-alexa-reviews  \n",
        "\n",
        "2.This dataset consists of a nearly 3000 Amazon customer reviews (input text), star ratings, date of review, variant and feedback of various amazon Alexa products like Alexa Echo, Echo dots, Alexa Firesticks etc. for learning how to train Machine for sentiment analysis.\n",
        "\n"
      ],
      "id": "n1_wUFKW-yIT"
    },
    {
      "cell_type": "markdown",
      "metadata": {
        "id": "PsFqbMZp8cFw"
      },
      "source": [
        "**2.2 Mapping the Real World Problem to Machine Learning**"
      ],
      "id": "PsFqbMZp8cFw"
    },
    {
      "cell_type": "markdown",
      "metadata": {
        "id": "RkwMps0_PXcc"
      },
      "source": [
        "**2.2.1. Type of Machine Learning Problem**"
      ],
      "id": "RkwMps0_PXcc"
    },
    {
      "cell_type": "markdown",
      "metadata": {
        "id": "sOdd9fVCPXwv"
      },
      "source": [
        "There are  different reviews of the customers of the customers which can be clasified into = classification problem ( Positive feedback Or Negative feedback)"
      ],
      "id": "sOdd9fVCPXwv"
    },
    {
      "cell_type": "markdown",
      "metadata": {
        "id": "VeCnoKjDPXzc"
      },
      "source": [
        "**2.2.2. Performamce Matrix**"
      ],
      "id": "VeCnoKjDPXzc"
    },
    {
      "cell_type": "markdown",
      "metadata": {
        "id": "ZExNEefCPX4P"
      },
      "source": [
        "Source:https://www.kaggle.com/sid321axn/amazon-alexa-reviews \n",
        "\n",
        "Metric(s): \n",
        "\n",
        "f1-score \n",
        "\n",
        "Confusion Matrix\n",
        "\n"
      ],
      "id": "ZExNEefCPX4P"
    },
    {
      "cell_type": "markdown",
      "metadata": {
        "id": "dmPm_PtOn882"
      },
      "source": [
        "# 3.Data Preprocessing"
      ],
      "id": "dmPm_PtOn882"
    },
    {
      "cell_type": "code",
      "metadata": {
        "id": "pvzKeGAwpwyd"
      },
      "source": [
        "#import libraries"
      ],
      "id": "pvzKeGAwpwyd",
      "execution_count": 1,
      "outputs": []
    },
    {
      "cell_type": "code",
      "metadata": {
        "id": "d05a782a"
      },
      "source": [
        "import pandas as pd\n",
        "import matplotlib.pyplot as plt\n",
        "import seaborn as sns\n",
        "import numpy as np"
      ],
      "id": "d05a782a",
      "execution_count": 2,
      "outputs": []
    },
    {
      "cell_type": "code",
      "metadata": {
        "id": "352e05e9"
      },
      "source": [
        "data=pd.read_csv('/content/amazon_alexa.tsv',sep=\"\\t\")"
      ],
      "id": "352e05e9",
      "execution_count": 3,
      "outputs": []
    },
    {
      "cell_type": "code",
      "metadata": {
        "id": "565edb02",
        "colab": {
          "base_uri": "https://localhost:8080/",
          "height": 204
        },
        "outputId": "9a1d644b-a7ff-4605-fc53-f27deae7aace"
      },
      "source": [
        "data.head()"
      ],
      "id": "565edb02",
      "execution_count": 4,
      "outputs": [
        {
          "output_type": "execute_result",
          "data": {
            "text/html": [
              "<div>\n",
              "<style scoped>\n",
              "    .dataframe tbody tr th:only-of-type {\n",
              "        vertical-align: middle;\n",
              "    }\n",
              "\n",
              "    .dataframe tbody tr th {\n",
              "        vertical-align: top;\n",
              "    }\n",
              "\n",
              "    .dataframe thead th {\n",
              "        text-align: right;\n",
              "    }\n",
              "</style>\n",
              "<table border=\"1\" class=\"dataframe\">\n",
              "  <thead>\n",
              "    <tr style=\"text-align: right;\">\n",
              "      <th></th>\n",
              "      <th>rating</th>\n",
              "      <th>date</th>\n",
              "      <th>variation</th>\n",
              "      <th>verified_reviews</th>\n",
              "      <th>feedback</th>\n",
              "    </tr>\n",
              "  </thead>\n",
              "  <tbody>\n",
              "    <tr>\n",
              "      <th>0</th>\n",
              "      <td>5</td>\n",
              "      <td>31-Jul-18</td>\n",
              "      <td>Charcoal Fabric</td>\n",
              "      <td>Love my Echo!</td>\n",
              "      <td>1</td>\n",
              "    </tr>\n",
              "    <tr>\n",
              "      <th>1</th>\n",
              "      <td>5</td>\n",
              "      <td>31-Jul-18</td>\n",
              "      <td>Charcoal Fabric</td>\n",
              "      <td>Loved it!</td>\n",
              "      <td>1</td>\n",
              "    </tr>\n",
              "    <tr>\n",
              "      <th>2</th>\n",
              "      <td>4</td>\n",
              "      <td>31-Jul-18</td>\n",
              "      <td>Walnut Finish</td>\n",
              "      <td>Sometimes while playing a game, you can answer...</td>\n",
              "      <td>1</td>\n",
              "    </tr>\n",
              "    <tr>\n",
              "      <th>3</th>\n",
              "      <td>5</td>\n",
              "      <td>31-Jul-18</td>\n",
              "      <td>Charcoal Fabric</td>\n",
              "      <td>I have had a lot of fun with this thing. My 4 ...</td>\n",
              "      <td>1</td>\n",
              "    </tr>\n",
              "    <tr>\n",
              "      <th>4</th>\n",
              "      <td>5</td>\n",
              "      <td>31-Jul-18</td>\n",
              "      <td>Charcoal Fabric</td>\n",
              "      <td>Music</td>\n",
              "      <td>1</td>\n",
              "    </tr>\n",
              "  </tbody>\n",
              "</table>\n",
              "</div>"
            ],
            "text/plain": [
              "   rating  ... feedback\n",
              "0       5  ...        1\n",
              "1       5  ...        1\n",
              "2       4  ...        1\n",
              "3       5  ...        1\n",
              "4       5  ...        1\n",
              "\n",
              "[5 rows x 5 columns]"
            ]
          },
          "metadata": {},
          "execution_count": 4
        }
      ]
    },
    {
      "cell_type": "code",
      "metadata": {
        "id": "e91d41c6",
        "colab": {
          "base_uri": "https://localhost:8080/"
        },
        "outputId": "04e84158-86de-4cc1-e0ca-912e9ee5fb70"
      },
      "source": [
        "columns = data.columns\n",
        "columns"
      ],
      "id": "e91d41c6",
      "execution_count": 5,
      "outputs": [
        {
          "output_type": "execute_result",
          "data": {
            "text/plain": [
              "Index(['rating', 'date', 'variation', 'verified_reviews', 'feedback'], dtype='object')"
            ]
          },
          "metadata": {},
          "execution_count": 5
        }
      ]
    },
    {
      "cell_type": "code",
      "metadata": {
        "id": "cd1b0cb8",
        "colab": {
          "base_uri": "https://localhost:8080/"
        },
        "outputId": "25eab902-b9d9-493a-baee-8ba7344c0399"
      },
      "source": [
        "data.isna().sum()"
      ],
      "id": "cd1b0cb8",
      "execution_count": 6,
      "outputs": [
        {
          "output_type": "execute_result",
          "data": {
            "text/plain": [
              "rating              0\n",
              "date                0\n",
              "variation           0\n",
              "verified_reviews    0\n",
              "feedback            0\n",
              "dtype: int64"
            ]
          },
          "metadata": {},
          "execution_count": 6
        }
      ]
    },
    {
      "cell_type": "code",
      "metadata": {
        "id": "06bd99d9",
        "colab": {
          "base_uri": "https://localhost:8080/"
        },
        "outputId": "ccc25ef4-f38e-4b16-a02c-332816944a2e"
      },
      "source": [
        "for i in columns:\n",
        "    print('Number of unique values in',i,'is=',len(np.unique(data[i])))"
      ],
      "id": "06bd99d9",
      "execution_count": 7,
      "outputs": [
        {
          "output_type": "stream",
          "name": "stdout",
          "text": [
            "Number of unique values in rating is= 5\n",
            "Number of unique values in date is= 77\n",
            "Number of unique values in variation is= 16\n",
            "Number of unique values in verified_reviews is= 2301\n",
            "Number of unique values in feedback is= 2\n"
          ]
        }
      ]
    },
    {
      "cell_type": "code",
      "metadata": {
        "id": "c05d40cc"
      },
      "source": [
        "# from above we understood the no of catogories of product i.e varaiation "
      ],
      "id": "c05d40cc",
      "execution_count": 8,
      "outputs": []
    },
    {
      "cell_type": "code",
      "metadata": {
        "id": "a95b3081",
        "colab": {
          "base_uri": "https://localhost:8080/"
        },
        "outputId": "13f971fc-5ee5-4ea3-82f3-e5857b1a74c3"
      },
      "source": [
        "data.isna().sum()"
      ],
      "id": "a95b3081",
      "execution_count": 9,
      "outputs": [
        {
          "output_type": "execute_result",
          "data": {
            "text/plain": [
              "rating              0\n",
              "date                0\n",
              "variation           0\n",
              "verified_reviews    0\n",
              "feedback            0\n",
              "dtype: int64"
            ]
          },
          "metadata": {},
          "execution_count": 9
        }
      ]
    },
    {
      "cell_type": "code",
      "metadata": {
        "id": "8394fa49",
        "colab": {
          "base_uri": "https://localhost:8080/",
          "height": 297
        },
        "outputId": "3d24f338-615d-4bc9-d44d-a0659e430cca"
      },
      "source": [
        "data.describe()"
      ],
      "id": "8394fa49",
      "execution_count": 10,
      "outputs": [
        {
          "output_type": "execute_result",
          "data": {
            "text/html": [
              "<div>\n",
              "<style scoped>\n",
              "    .dataframe tbody tr th:only-of-type {\n",
              "        vertical-align: middle;\n",
              "    }\n",
              "\n",
              "    .dataframe tbody tr th {\n",
              "        vertical-align: top;\n",
              "    }\n",
              "\n",
              "    .dataframe thead th {\n",
              "        text-align: right;\n",
              "    }\n",
              "</style>\n",
              "<table border=\"1\" class=\"dataframe\">\n",
              "  <thead>\n",
              "    <tr style=\"text-align: right;\">\n",
              "      <th></th>\n",
              "      <th>rating</th>\n",
              "      <th>feedback</th>\n",
              "    </tr>\n",
              "  </thead>\n",
              "  <tbody>\n",
              "    <tr>\n",
              "      <th>count</th>\n",
              "      <td>3150.000000</td>\n",
              "      <td>3150.000000</td>\n",
              "    </tr>\n",
              "    <tr>\n",
              "      <th>mean</th>\n",
              "      <td>4.463175</td>\n",
              "      <td>0.918413</td>\n",
              "    </tr>\n",
              "    <tr>\n",
              "      <th>std</th>\n",
              "      <td>1.068506</td>\n",
              "      <td>0.273778</td>\n",
              "    </tr>\n",
              "    <tr>\n",
              "      <th>min</th>\n",
              "      <td>1.000000</td>\n",
              "      <td>0.000000</td>\n",
              "    </tr>\n",
              "    <tr>\n",
              "      <th>25%</th>\n",
              "      <td>4.000000</td>\n",
              "      <td>1.000000</td>\n",
              "    </tr>\n",
              "    <tr>\n",
              "      <th>50%</th>\n",
              "      <td>5.000000</td>\n",
              "      <td>1.000000</td>\n",
              "    </tr>\n",
              "    <tr>\n",
              "      <th>75%</th>\n",
              "      <td>5.000000</td>\n",
              "      <td>1.000000</td>\n",
              "    </tr>\n",
              "    <tr>\n",
              "      <th>max</th>\n",
              "      <td>5.000000</td>\n",
              "      <td>1.000000</td>\n",
              "    </tr>\n",
              "  </tbody>\n",
              "</table>\n",
              "</div>"
            ],
            "text/plain": [
              "            rating     feedback\n",
              "count  3150.000000  3150.000000\n",
              "mean      4.463175     0.918413\n",
              "std       1.068506     0.273778\n",
              "min       1.000000     0.000000\n",
              "25%       4.000000     1.000000\n",
              "50%       5.000000     1.000000\n",
              "75%       5.000000     1.000000\n",
              "max       5.000000     1.000000"
            ]
          },
          "metadata": {},
          "execution_count": 10
        }
      ]
    },
    {
      "cell_type": "code",
      "metadata": {
        "id": "15f34779",
        "colab": {
          "base_uri": "https://localhost:8080/"
        },
        "outputId": "99a0c797-dea5-4467-f084-bfb79fce1316"
      },
      "source": [
        "data.info()"
      ],
      "id": "15f34779",
      "execution_count": 11,
      "outputs": [
        {
          "output_type": "stream",
          "name": "stdout",
          "text": [
            "<class 'pandas.core.frame.DataFrame'>\n",
            "RangeIndex: 3150 entries, 0 to 3149\n",
            "Data columns (total 5 columns):\n",
            " #   Column            Non-Null Count  Dtype \n",
            "---  ------            --------------  ----- \n",
            " 0   rating            3150 non-null   int64 \n",
            " 1   date              3150 non-null   object\n",
            " 2   variation         3150 non-null   object\n",
            " 3   verified_reviews  3150 non-null   object\n",
            " 4   feedback          3150 non-null   int64 \n",
            "dtypes: int64(2), object(3)\n",
            "memory usage: 123.2+ KB\n"
          ]
        }
      ]
    },
    {
      "cell_type": "code",
      "metadata": {
        "id": "7506d2d0"
      },
      "source": [
        "# As Date paramater has no significance in review system so we can drop Date\n",
        "data.drop('date',axis=1,inplace=True)"
      ],
      "id": "7506d2d0",
      "execution_count": 12,
      "outputs": []
    },
    {
      "cell_type": "markdown",
      "metadata": {
        "id": "ed4adc63"
      },
      "source": [
        "**As we have convert column string to int for model training hence we will convert variance(catogories) by label encoder and verified_reviews using NLP (differnt reviews having same meaning they may also mapp differently)**"
      ],
      "id": "ed4adc63"
    },
    {
      "cell_type": "code",
      "metadata": {
        "id": "93378ca7"
      },
      "source": [
        "from sklearn.preprocessing import LabelEncoder\n",
        "data['variation'] = LabelEncoder().fit_transform(data['variation'])"
      ],
      "id": "93378ca7",
      "execution_count": 13,
      "outputs": []
    },
    {
      "cell_type": "markdown",
      "metadata": {
        "id": "ht3joZREqvwj"
      },
      "source": [
        "**Now the data after label encoder is:**"
      ],
      "id": "ht3joZREqvwj"
    },
    {
      "cell_type": "code",
      "metadata": {
        "id": "b95a22a0",
        "colab": {
          "base_uri": "https://localhost:8080/",
          "height": 419
        },
        "outputId": "70e8dec5-de09-4dd3-cdf3-aba91682fe48"
      },
      "source": [
        "data"
      ],
      "id": "b95a22a0",
      "execution_count": 14,
      "outputs": [
        {
          "output_type": "execute_result",
          "data": {
            "text/html": [
              "<div>\n",
              "<style scoped>\n",
              "    .dataframe tbody tr th:only-of-type {\n",
              "        vertical-align: middle;\n",
              "    }\n",
              "\n",
              "    .dataframe tbody tr th {\n",
              "        vertical-align: top;\n",
              "    }\n",
              "\n",
              "    .dataframe thead th {\n",
              "        text-align: right;\n",
              "    }\n",
              "</style>\n",
              "<table border=\"1\" class=\"dataframe\">\n",
              "  <thead>\n",
              "    <tr style=\"text-align: right;\">\n",
              "      <th></th>\n",
              "      <th>rating</th>\n",
              "      <th>variation</th>\n",
              "      <th>verified_reviews</th>\n",
              "      <th>feedback</th>\n",
              "    </tr>\n",
              "  </thead>\n",
              "  <tbody>\n",
              "    <tr>\n",
              "      <th>0</th>\n",
              "      <td>5</td>\n",
              "      <td>5</td>\n",
              "      <td>Love my Echo!</td>\n",
              "      <td>1</td>\n",
              "    </tr>\n",
              "    <tr>\n",
              "      <th>1</th>\n",
              "      <td>5</td>\n",
              "      <td>5</td>\n",
              "      <td>Loved it!</td>\n",
              "      <td>1</td>\n",
              "    </tr>\n",
              "    <tr>\n",
              "      <th>2</th>\n",
              "      <td>4</td>\n",
              "      <td>10</td>\n",
              "      <td>Sometimes while playing a game, you can answer...</td>\n",
              "      <td>1</td>\n",
              "    </tr>\n",
              "    <tr>\n",
              "      <th>3</th>\n",
              "      <td>5</td>\n",
              "      <td>5</td>\n",
              "      <td>I have had a lot of fun with this thing. My 4 ...</td>\n",
              "      <td>1</td>\n",
              "    </tr>\n",
              "    <tr>\n",
              "      <th>4</th>\n",
              "      <td>5</td>\n",
              "      <td>5</td>\n",
              "      <td>Music</td>\n",
              "      <td>1</td>\n",
              "    </tr>\n",
              "    <tr>\n",
              "      <th>...</th>\n",
              "      <td>...</td>\n",
              "      <td>...</td>\n",
              "      <td>...</td>\n",
              "      <td>...</td>\n",
              "    </tr>\n",
              "    <tr>\n",
              "      <th>3145</th>\n",
              "      <td>5</td>\n",
              "      <td>1</td>\n",
              "      <td>Perfect for kids, adults and everyone in betwe...</td>\n",
              "      <td>1</td>\n",
              "    </tr>\n",
              "    <tr>\n",
              "      <th>3146</th>\n",
              "      <td>5</td>\n",
              "      <td>1</td>\n",
              "      <td>Listening to music, searching locations, check...</td>\n",
              "      <td>1</td>\n",
              "    </tr>\n",
              "    <tr>\n",
              "      <th>3147</th>\n",
              "      <td>5</td>\n",
              "      <td>1</td>\n",
              "      <td>I do love these things, i have them running my...</td>\n",
              "      <td>1</td>\n",
              "    </tr>\n",
              "    <tr>\n",
              "      <th>3148</th>\n",
              "      <td>5</td>\n",
              "      <td>12</td>\n",
              "      <td>Only complaint I have is that the sound qualit...</td>\n",
              "      <td>1</td>\n",
              "    </tr>\n",
              "    <tr>\n",
              "      <th>3149</th>\n",
              "      <td>4</td>\n",
              "      <td>1</td>\n",
              "      <td>Good</td>\n",
              "      <td>1</td>\n",
              "    </tr>\n",
              "  </tbody>\n",
              "</table>\n",
              "<p>3150 rows × 4 columns</p>\n",
              "</div>"
            ],
            "text/plain": [
              "      rating  ...  feedback\n",
              "0          5  ...         1\n",
              "1          5  ...         1\n",
              "2          4  ...         1\n",
              "3          5  ...         1\n",
              "4          5  ...         1\n",
              "...      ...  ...       ...\n",
              "3145       5  ...         1\n",
              "3146       5  ...         1\n",
              "3147       5  ...         1\n",
              "3148       5  ...         1\n",
              "3149       4  ...         1\n",
              "\n",
              "[3150 rows x 4 columns]"
            ]
          },
          "metadata": {},
          "execution_count": 14
        }
      ]
    },
    {
      "cell_type": "markdown",
      "metadata": {
        "id": "59fd480a"
      },
      "source": [
        "# 4.Exploratory Data Analysis"
      ],
      "id": "59fd480a"
    },
    {
      "cell_type": "code",
      "metadata": {
        "id": "7d859dd8"
      },
      "source": [
        "# histplot"
      ],
      "id": "7d859dd8",
      "execution_count": 15,
      "outputs": []
    },
    {
      "cell_type": "code",
      "metadata": {
        "id": "177eb378",
        "colab": {
          "base_uri": "https://localhost:8080/",
          "height": 385
        },
        "outputId": "453c1a36-ac99-4a01-bc09-1189f2119ea0"
      },
      "source": [
        "sns.FacetGrid(data,hue='feedback',height=5)\\\n",
        "  .map(plt.hist,'rating')\\\n",
        "  .add_legend();\n",
        "plt.title('Histogram for Rating')\n",
        "\n",
        "plt.show()"
      ],
      "id": "177eb378",
      "execution_count": 16,
      "outputs": [
        {
          "output_type": "display_data",
          "data": {
            "image/png": "[encoded data removed]",
            "text/plain": [
              "<Figure size 413.875x360 with 1 Axes>"
            ]
          },
          "metadata": {
            "needs_background": "light"
          }
        }
      ]
    },
    {
      "cell_type": "markdown",
      "metadata": {
        "id": "eh4N6l1arZ4K"
      },
      "source": [
        "**1.For Ratings 3 , 4 , and 5 we have positive review feedback** \n"
      ],
      "id": "eh4N6l1arZ4K"
    },
    {
      "cell_type": "markdown",
      "metadata": {
        "id": "9YQO5yF2s2gr"
      },
      "source": [
        "**2.For Ratings 1 and 2 we have negative review feedback**"
      ],
      "id": "9YQO5yF2s2gr"
    },
    {
      "cell_type": "code",
      "metadata": {
        "id": "LETYM0UTW1pT",
        "colab": {
          "base_uri": "https://localhost:8080/",
          "height": 385
        },
        "outputId": "33379fd8-e45d-4d84-816c-7aae61db6118"
      },
      "source": [
        "sns.FacetGrid(data,hue='feedback',height=5)\\\n",
        "  .map(plt.hist,'feedback')\\\n",
        "  .add_legend();\n",
        "plt.title('Histogram for feedback')\n",
        "\n",
        "plt.show()"
      ],
      "id": "LETYM0UTW1pT",
      "execution_count": 17,
      "outputs": [
        {
          "output_type": "display_data",
          "data": {
            "image/png": "[encoded data removed]",
            "text/plain": [
              "<Figure size 413.875x360 with 1 Axes>"
            ]
          },
          "metadata": {
            "needs_background": "light"
          }
        }
      ]
    },
    {
      "cell_type": "markdown",
      "metadata": {
        "id": "mTAT_34BtGXf"
      },
      "source": [
        "**The Count of positive feedback is more which ultimately helps the Service Provider to analyse the response of customers !**"
      ],
      "id": "mTAT_34BtGXf"
    },
    {
      "cell_type": "code",
      "metadata": {
        "id": "10fbd534",
        "colab": {
          "base_uri": "https://localhost:8080/",
          "height": 295
        },
        "outputId": "51ce50cd-40bd-442b-dea1-df80a96c14e4"
      },
      "source": [
        "sns.countplot(x='variation',data=data)\n",
        "plt.title('Count Plot For variation')\n",
        "plt.show()"
      ],
      "id": "10fbd534",
      "execution_count": 18,
      "outputs": [
        {
          "output_type": "display_data",
          "data": {
            "image/png": "[encoded data removed]",
            "text/plain": [
              "<Figure size 432x288 with 1 Axes>"
            ]
          },
          "metadata": {
            "needs_background": "light"
          }
        }
      ]
    },
    {
      "cell_type": "markdown",
      "metadata": {
        "id": "II43IIgxynht"
      },
      "source": [
        "**The above plot shows the different variations in product with respect to its counts**"
      ],
      "id": "II43IIgxynht"
    },
    {
      "cell_type": "code",
      "metadata": {
        "id": "d0b2b981",
        "colab": {
          "base_uri": "https://localhost:8080/",
          "height": 295
        },
        "outputId": "126266c7-202c-46a9-a149-8c5855db8319"
      },
      "source": [
        "sns.countplot(x='variation',hue='feedback',data=data)\n",
        "plt.title('Count Plot For variation')\n",
        "plt.show()"
      ],
      "id": "d0b2b981",
      "execution_count": 19,
      "outputs": [
        {
          "output_type": "display_data",
          "data": {
            "image/png": "[encoded data removed]",
            "text/plain": [
              "<Figure size 432x288 with 1 Axes>"
            ]
          },
          "metadata": {
            "needs_background": "light"
          }
        }
      ]
    },
    {
      "cell_type": "markdown",
      "metadata": {
        "id": "Nkjru-dfy_Xh"
      },
      "source": [
        "**1.The observation is almost every 16 variation of the product is having higher positive feedback than negative feedback**"
      ],
      "id": "Nkjru-dfy_Xh"
    },
    {
      "cell_type": "markdown",
      "metadata": {
        "id": "286LT_aYz2RV"
      },
      "source": [
        "**2. Variation of labelled number 8 is having less count but 98 % review is noticed positive**"
      ],
      "id": "286LT_aYz2RV"
    },
    {
      "cell_type": "code",
      "metadata": {
        "id": "bvJyQSygXT9C",
        "colab": {
          "base_uri": "https://localhost:8080/",
          "height": 295
        },
        "outputId": "7199682d-40f0-4385-8c88-7ee0b06594ca"
      },
      "source": [
        "sns.scatterplot(x='rating',y='variation',data=data,hue='feedback')\n",
        "plt.title('scatter')\n",
        "\n",
        "plt.show()"
      ],
      "id": "bvJyQSygXT9C",
      "execution_count": 20,
      "outputs": [
        {
          "output_type": "display_data",
          "data": {
            "image/png": "[encoded data removed]",
            "text/plain": [
              "<Figure size 432x288 with 1 Axes>"
            ]
          },
          "metadata": {
            "needs_background": "light"
          }
        }
      ]
    },
    {
      "cell_type": "markdown",
      "metadata": {
        "id": "kWUCa--R0nGw"
      },
      "source": [
        "**1.The above plot indicates the ratings with respect to variation**"
      ],
      "id": "kWUCa--R0nGw"
    },
    {
      "cell_type": "markdown",
      "metadata": {
        "id": "uLSM8gyS3CdE"
      },
      "source": [
        "**2. Higher positive feedback is noticed for every variance**"
      ],
      "id": "uLSM8gyS3CdE"
    },
    {
      "cell_type": "code",
      "metadata": {
        "id": "yDq5dqocX-u1",
        "colab": {
          "base_uri": "https://localhost:8080/",
          "height": 541
        },
        "outputId": "a1ffe8d4-da0e-4460-e3f1-39cf48e98da3"
      },
      "source": [
        "visual=plt.figure(figsize=(12,9))\n",
        "sns.heatmap(data.corr(),square=True)\n",
        "plt.show()"
      ],
      "id": "yDq5dqocX-u1",
      "execution_count": 21,
      "outputs": [
        {
          "output_type": "display_data",
          "data": {
            "image/png": "[encoded data removed]",
            "text/plain": [
              "<Figure size 864x648 with 2 Axes>"
            ]
          },
          "metadata": {
            "needs_background": "light"
          }
        }
      ]
    },
    {
      "cell_type": "markdown",
      "metadata": {
        "id": "PtL4XUMJ36bv"
      },
      "source": [
        "**1. Positive Correlation = feedback and rating**\n",
        "\n",
        "**2.Negative Correlation =** \n",
        "\n",
        "**a.variation and rating**\n",
        "\n",
        "**b.variation and feedback**\n"
      ],
      "id": "PtL4XUMJ36bv"
    },
    {
      "cell_type": "code",
      "metadata": {
        "id": "541e5b18"
      },
      "source": [
        "\n",
        "import nltk\n",
        "nltk.download('all')\n",
        "nltk.download('stopwords')"
      ],
      "id": "541e5b18",
      "execution_count": null,
      "outputs": []
    },
    {
      "cell_type": "code",
      "metadata": {
        "id": "37948a67"
      },
      "source": [
        "#cleaning the text\n",
        "import re\n",
        "from nltk.corpus import stopwords\n",
        "from nltk.stem.porter import PorterStemmer\n",
        "from nltk.stem import WordNetLemmatizer"
      ],
      "id": "37948a67",
      "execution_count": 23,
      "outputs": []
    },
    {
      "cell_type": "code",
      "metadata": {
        "id": "4ec39020"
      },
      "source": [
        "reviews=[]\n",
        "for i in range(len(data)):\n",
        "    review=re.sub('[^a-zA-Z]',' ',data['verified_reviews'][i])\n",
        "    review=review.lower()\n",
        "    review=review.split()\n",
        "    ps = PorterStemmer()\n",
        "    review=[ps.stem(word) for word in review if  word not in set(stopwords.words('english'))]\n",
        "    review= ' '.join(review)\n",
        "    reviews.append(review)"
      ],
      "id": "4ec39020",
      "execution_count": 24,
      "outputs": []
    },
    {
      "cell_type": "code",
      "metadata": {
        "id": "a54f2f22"
      },
      "source": [
        "reviews\n"
      ],
      "id": "a54f2f22",
      "execution_count": null,
      "outputs": []
    },
    {
      "cell_type": "code",
      "metadata": {
        "id": "68cfe372"
      },
      "source": [
        "#Creating a bag of words that contains all the unique words in all the reviews\n",
        "#Each column in X will represent each word\n",
        "from sklearn.feature_extraction.text import CountVectorizer\n",
        "cv = CountVectorizer()\n",
        "X = cv.fit_transform(reviews).toarray()\n",
        "Y=data['feedback']\n"
      ],
      "id": "68cfe372",
      "execution_count": 26,
      "outputs": []
    },
    {
      "cell_type": "code",
      "metadata": {
        "id": "c29d282b"
      },
      "source": [
        "from sklearn.model_selection import train_test_split\n",
        "x_train,x_test,y_train,y_test= train_test_split(X,Y,test_size=0.3,random_state=0)"
      ],
      "id": "c29d282b",
      "execution_count": 27,
      "outputs": []
    },
    {
      "cell_type": "code",
      "metadata": {
        "id": "VfDsSJ6C0Ms0",
        "colab": {
          "base_uri": "https://localhost:8080/"
        },
        "outputId": "89d27fd3-077c-47c2-dcce-06bc025f253c"
      },
      "source": [
        "len(x_train)"
      ],
      "id": "VfDsSJ6C0Ms0",
      "execution_count": 28,
      "outputs": [
        {
          "output_type": "execute_result",
          "data": {
            "text/plain": [
              "2205"
            ]
          },
          "metadata": {},
          "execution_count": 28
        }
      ]
    },
    {
      "cell_type": "code",
      "metadata": {
        "id": "VkrgoPa30Tg2",
        "colab": {
          "base_uri": "https://localhost:8080/"
        },
        "outputId": "753b95f8-46ac-4cac-8117-6abd99e10ca5"
      },
      "source": [
        "len(x_test)"
      ],
      "id": "VkrgoPa30Tg2",
      "execution_count": 29,
      "outputs": [
        {
          "output_type": "execute_result",
          "data": {
            "text/plain": [
              "945"
            ]
          },
          "metadata": {},
          "execution_count": 29
        }
      ]
    },
    {
      "cell_type": "code",
      "metadata": {
        "id": "8Uup5m5y0Y4o",
        "colab": {
          "base_uri": "https://localhost:8080/"
        },
        "outputId": "3a74b36f-18e9-4cc8-fd53-3927d18047cb"
      },
      "source": [
        "len(y_train)"
      ],
      "id": "8Uup5m5y0Y4o",
      "execution_count": 30,
      "outputs": [
        {
          "output_type": "execute_result",
          "data": {
            "text/plain": [
              "2205"
            ]
          },
          "metadata": {},
          "execution_count": 30
        }
      ]
    },
    {
      "cell_type": "code",
      "metadata": {
        "id": "H_mUQB0A0dy4",
        "colab": {
          "base_uri": "https://localhost:8080/"
        },
        "outputId": "abf7fc66-545f-4beb-c541-ad3565d9e3a3"
      },
      "source": [
        "len(y_test)"
      ],
      "id": "H_mUQB0A0dy4",
      "execution_count": 31,
      "outputs": [
        {
          "output_type": "execute_result",
          "data": {
            "text/plain": [
              "945"
            ]
          },
          "metadata": {},
          "execution_count": 31
        }
      ]
    },
    {
      "cell_type": "code",
      "metadata": {
        "id": "pnUrVXoE0f2m",
        "colab": {
          "base_uri": "https://localhost:8080/"
        },
        "outputId": "108de45d-4a08-4e9a-fda1-cf38e4ea9775"
      },
      "source": [
        "from sklearn.preprocessing import StandardScaler\n",
        "std = StandardScaler()\n",
        "std.fit_transform(x_train)\n",
        "std.fit(x_test)"
      ],
      "id": "pnUrVXoE0f2m",
      "execution_count": 32,
      "outputs": [
        {
          "output_type": "execute_result",
          "data": {
            "text/plain": [
              "StandardScaler(copy=True, with_mean=True, with_std=True)"
            ]
          },
          "metadata": {},
          "execution_count": 32
        }
      ]
    },
    {
      "cell_type": "markdown",
      "metadata": {
        "id": "lylVRu491hmm"
      },
      "source": [
        "# 5.Model Training"
      ],
      "id": "lylVRu491hmm"
    },
    {
      "cell_type": "markdown",
      "metadata": {
        "id": "T-g-J_k-w9Qt"
      },
      "source": [
        "**01.LOGISTIC REGRRESION**"
      ],
      "id": "T-g-J_k-w9Qt"
    },
    {
      "cell_type": "code",
      "metadata": {
        "id": "_jlXSAjt1uoh"
      },
      "source": [
        "from sklearn.linear_model import LogisticRegression\n",
        "from sklearn.model_selection import RandomizedSearchCV\n",
        "\n",
        "log_reg=LogisticRegression()\n",
        "\n",
        "parametre={\n",
        "    'penalty':['l2'],\n",
        "    'C':[1.0,2.0,3.0,4.0],\n",
        "    'random_state':[None],\n",
        "    'solver':['lbfgs'],\n",
        "    'max_iter':[100,400,600,1000]\n",
        "}\n",
        "\n",
        "rv=RandomizedSearchCV(log_reg,parametre)\n",
        "rv.fit(x_train,y_train)"
      ],
      "id": "_jlXSAjt1uoh",
      "execution_count": null,
      "outputs": []
    },
    {
      "cell_type": "code",
      "metadata": {
        "id": "uZZcZNel10q-",
        "colab": {
          "base_uri": "https://localhost:8080/"
        },
        "outputId": "fd0fe745-5d33-46b5-a98e-bf071d13e54b"
      },
      "source": [
        "rv.best_params_"
      ],
      "id": "uZZcZNel10q-",
      "execution_count": 34,
      "outputs": [
        {
          "output_type": "execute_result",
          "data": {
            "text/plain": [
              "{'C': 4.0,\n",
              " 'max_iter': 400,\n",
              " 'penalty': 'l2',\n",
              " 'random_state': None,\n",
              " 'solver': 'lbfgs'}"
            ]
          },
          "metadata": {},
          "execution_count": 34
        }
      ]
    },
    {
      "cell_type": "code",
      "metadata": {
        "id": "2WvS3pAn3PIY",
        "colab": {
          "base_uri": "https://localhost:8080/"
        },
        "outputId": "84f41229-a312-4c5c-d74f-33dcaf7dbbb5"
      },
      "source": [
        "rv.best_score_"
      ],
      "id": "2WvS3pAn3PIY",
      "execution_count": 35,
      "outputs": [
        {
          "output_type": "execute_result",
          "data": {
            "text/plain": [
              "0.9387755102040817"
            ]
          },
          "metadata": {},
          "execution_count": 35
        }
      ]
    },
    {
      "cell_type": "code",
      "metadata": {
        "id": "9iddiZH_3TK4",
        "colab": {
          "base_uri": "https://localhost:8080/"
        },
        "outputId": "46d9187f-0ca1-46c7-ba22-7e2b65ad50b5"
      },
      "source": [
        "log_reg=LogisticRegression(solver='lbfgs',\n",
        " random_state= None,\n",
        " penalty= 'l2',\n",
        " max_iter= 1000,\n",
        " C= 4.0)\n",
        "\n",
        "log_reg.fit(x_train,y_train)"
      ],
      "id": "9iddiZH_3TK4",
      "execution_count": 36,
      "outputs": [
        {
          "output_type": "execute_result",
          "data": {
            "text/plain": [
              "LogisticRegression(C=4.0, class_weight=None, dual=False, fit_intercept=True,\n",
              "                   intercept_scaling=1, l1_ratio=None, max_iter=1000,\n",
              "                   multi_class='auto', n_jobs=None, penalty='l2',\n",
              "                   random_state=None, solver='lbfgs', tol=0.0001, verbose=0,\n",
              "                   warm_start=False)"
            ]
          },
          "metadata": {},
          "execution_count": 36
        }
      ]
    },
    {
      "cell_type": "code",
      "metadata": {
        "id": "n9-sb8SA3pxV"
      },
      "source": [
        "y_pred=log_reg.predict(x_test)"
      ],
      "id": "n9-sb8SA3pxV",
      "execution_count": 37,
      "outputs": []
    },
    {
      "cell_type": "code",
      "metadata": {
        "id": "3WCvoAi03zY3",
        "colab": {
          "base_uri": "https://localhost:8080/"
        },
        "outputId": "35f5425c-7555-4d58-a180-a5350085649f"
      },
      "source": [
        "# Accuracy score of train and test data\n",
        "print(\"Train Data\",log_reg.score(x_train,y_train)*100)\n",
        "print(\"Test Data\",log_reg.score(x_test,y_test)*100)"
      ],
      "id": "3WCvoAi03zY3",
      "execution_count": 38,
      "outputs": [
        {
          "output_type": "stream",
          "name": "stdout",
          "text": [
            "Train Data 98.91156462585035\n",
            "Test Data 93.96825396825396\n"
          ]
        }
      ]
    },
    {
      "cell_type": "code",
      "metadata": {
        "id": "bAnoKHzb6Kro",
        "colab": {
          "base_uri": "https://localhost:8080/"
        },
        "outputId": "cfe9fde2-a329-41cb-b751-fc5547ebbf31"
      },
      "source": [
        "# Confusion matrix\n",
        "from sklearn.metrics import confusion_matrix,classification_report,accuracy_score\n",
        "print(confusion_matrix(y_test,y_pred))"
      ],
      "id": "bAnoKHzb6Kro",
      "execution_count": 39,
      "outputs": [
        {
          "output_type": "stream",
          "name": "stdout",
          "text": [
            "[[ 29  46]\n",
            " [ 11 859]]\n"
          ]
        }
      ]
    },
    {
      "cell_type": "code",
      "metadata": {
        "id": "shxTMaNy6izv",
        "colab": {
          "base_uri": "https://localhost:8080/"
        },
        "outputId": "a23519ee-6e4f-4887-80fe-5658a21e3914"
      },
      "source": [
        "print(classification_report(y_test,y_pred))"
      ],
      "id": "shxTMaNy6izv",
      "execution_count": 40,
      "outputs": [
        {
          "output_type": "stream",
          "name": "stdout",
          "text": [
            "              precision    recall  f1-score   support\n",
            "\n",
            "           0       0.72      0.39      0.50        75\n",
            "           1       0.95      0.99      0.97       870\n",
            "\n",
            "    accuracy                           0.94       945\n",
            "   macro avg       0.84      0.69      0.74       945\n",
            "weighted avg       0.93      0.94      0.93       945\n",
            "\n"
          ]
        }
      ]
    },
    {
      "cell_type": "markdown",
      "metadata": {
        "id": "o5rvaq4QxjOa"
      },
      "source": [
        "**Test Accuracy obtained from LOGISTIC REGRESSION is 93.96%**"
      ],
      "id": "o5rvaq4QxjOa"
    },
    {
      "cell_type": "markdown",
      "metadata": {
        "id": "os0KgBNT6hw2"
      },
      "source": [
        "**02. DECISION TREE**"
      ],
      "id": "os0KgBNT6hw2"
    },
    {
      "cell_type": "code",
      "metadata": {
        "id": "Wv8yD0c2yOqm"
      },
      "source": [
        "from sklearn.tree import DecisionTreeClassifier\n",
        "from sklearn.model_selection import RandomizedSearchCV\n",
        "from sklearn.metrics import confusion_matrix,classification_report,accuracy_score\n",
        "\n",
        "DT = DecisionTreeClassifier()\n",
        "\n",
        "parameters={'criterion':['gini'],\n",
        "            'splitter': ['best','random'],\n",
        "           'max_depth':[2,10,20,25,40,None],\n",
        "           'min_samples_split':[2,4,5,10,12],\n",
        "           'min_samples_leaf':[1,2,3,6]}\n",
        "           \n",
        "RS=RandomizedSearchCV(DT,parameters)\n",
        "RS.fit(x_train,y_train)"
      ],
      "id": "Wv8yD0c2yOqm",
      "execution_count": null,
      "outputs": []
    },
    {
      "cell_type": "code",
      "metadata": {
        "id": "271ntgQE5UMZ",
        "colab": {
          "base_uri": "https://localhost:8080/"
        },
        "outputId": "9c1618a7-4e81-44af-907f-a5d9ca863f6e"
      },
      "source": [
        "RS.best_params_"
      ],
      "id": "271ntgQE5UMZ",
      "execution_count": 42,
      "outputs": [
        {
          "output_type": "execute_result",
          "data": {
            "text/plain": [
              "{'criterion': 'gini',\n",
              " 'max_depth': 10,\n",
              " 'min_samples_leaf': 3,\n",
              " 'min_samples_split': 4,\n",
              " 'splitter': 'best'}"
            ]
          },
          "metadata": {},
          "execution_count": 42
        }
      ]
    },
    {
      "cell_type": "code",
      "metadata": {
        "id": "ba4uYQK35fy6",
        "colab": {
          "base_uri": "https://localhost:8080/"
        },
        "outputId": "a4c994b5-6697-45f1-ed4b-42a8e4ec03b5"
      },
      "source": [
        "RS.best_score_"
      ],
      "id": "ba4uYQK35fy6",
      "execution_count": 43,
      "outputs": [
        {
          "output_type": "execute_result",
          "data": {
            "text/plain": [
              "0.9233560090702948"
            ]
          },
          "metadata": {},
          "execution_count": 43
        }
      ]
    },
    {
      "cell_type": "code",
      "metadata": {
        "id": "vCNHnmJR5ozk",
        "colab": {
          "base_uri": "https://localhost:8080/"
        },
        "outputId": "cfd3316d-d553-45fd-d024-7eae76609077"
      },
      "source": [
        "DT=DecisionTreeClassifier(criterion ='gini',\n",
        " max_depth= 10,\n",
        " min_samples_leaf= 1,\n",
        " min_samples_split= 2,\n",
        " splitter= 'best')\n",
        "DT.fit(x_train,y_train)"
      ],
      "id": "vCNHnmJR5ozk",
      "execution_count": 44,
      "outputs": [
        {
          "output_type": "execute_result",
          "data": {
            "text/plain": [
              "DecisionTreeClassifier(ccp_alpha=0.0, class_weight=None, criterion='gini',\n",
              "                       max_depth=10, max_features=None, max_leaf_nodes=None,\n",
              "                       min_impurity_decrease=0.0, min_impurity_split=None,\n",
              "                       min_samples_leaf=1, min_samples_split=2,\n",
              "                       min_weight_fraction_leaf=0.0, presort='deprecated',\n",
              "                       random_state=None, splitter='best')"
            ]
          },
          "metadata": {},
          "execution_count": 44
        }
      ]
    },
    {
      "cell_type": "code",
      "metadata": {
        "id": "U_kP7yng5vl3"
      },
      "source": [
        "#predicting testing data\n",
        "y_pred=DT.predict(x_test)"
      ],
      "id": "U_kP7yng5vl3",
      "execution_count": 45,
      "outputs": []
    },
    {
      "cell_type": "code",
      "metadata": {
        "id": "LKcoWUS850jm",
        "colab": {
          "base_uri": "https://localhost:8080/"
        },
        "outputId": "3fde6d11-3bbb-4253-c79d-951cc0e7b045"
      },
      "source": [
        "#calculation of accuracy score\n",
        "print('Train Data Score',accuracy_score(y_train,DT.predict(x_train))*100)\n",
        "print('Test Data Score',accuracy_score(y_test,DT.predict(x_test))*100)"
      ],
      "id": "LKcoWUS850jm",
      "execution_count": 46,
      "outputs": [
        {
          "output_type": "stream",
          "name": "stdout",
          "text": [
            "Train Data Score 95.41950113378684\n",
            "Test Data Score 92.6984126984127\n"
          ]
        }
      ]
    },
    {
      "cell_type": "code",
      "metadata": {
        "id": "wWB7IKSp6Qzd",
        "colab": {
          "base_uri": "https://localhost:8080/"
        },
        "outputId": "84ca4cce-21d0-4992-9871-18f4d3388aec"
      },
      "source": [
        "print(confusion_matrix(y_test,y_pred))"
      ],
      "id": "wWB7IKSp6Qzd",
      "execution_count": 47,
      "outputs": [
        {
          "output_type": "stream",
          "name": "stdout",
          "text": [
            "[[ 16  59]\n",
            " [ 10 860]]\n"
          ]
        }
      ]
    },
    {
      "cell_type": "code",
      "metadata": {
        "id": "rnhvsYG46Ygl",
        "colab": {
          "base_uri": "https://localhost:8080/"
        },
        "outputId": "53231527-3f4e-4884-dd21-eda44df1438b"
      },
      "source": [
        "print(classification_report(y_test,y_pred))"
      ],
      "id": "rnhvsYG46Ygl",
      "execution_count": 48,
      "outputs": [
        {
          "output_type": "stream",
          "name": "stdout",
          "text": [
            "              precision    recall  f1-score   support\n",
            "\n",
            "           0       0.62      0.21      0.32        75\n",
            "           1       0.94      0.99      0.96       870\n",
            "\n",
            "    accuracy                           0.93       945\n",
            "   macro avg       0.78      0.60      0.64       945\n",
            "weighted avg       0.91      0.93      0.91       945\n",
            "\n"
          ]
        }
      ]
    },
    {
      "cell_type": "markdown",
      "metadata": {
        "id": "Fqf7EoUHpL6S"
      },
      "source": [
        "**Test Accuracy obtained from DECISION TREE is 92.59%**"
      ],
      "id": "Fqf7EoUHpL6S"
    },
    {
      "cell_type": "markdown",
      "metadata": {
        "id": "uiStH_bN17ll"
      },
      "source": [
        "**03.KNN CLASSIFIER**"
      ],
      "id": "uiStH_bN17ll"
    },
    {
      "cell_type": "code",
      "metadata": {
        "id": "vZpewATf6zBK"
      },
      "source": [
        "\n",
        "from sklearn.neighbors import KNeighborsClassifier\n",
        "from sklearn.model_selection import GridSearchCV\n",
        "KNN=KNeighborsClassifier()\n",
        "para_meter={'n_neighbors':[3,10,2],\n",
        "            'weights':['uniform', 'distance'],\n",
        "            'algorithm':['auto']\n",
        "            \n",
        "}\n",
        "\n",
        "gsv=GridSearchCV(KNN,para_meter)\n",
        "gsv.fit(x_train,y_train)"
      ],
      "id": "vZpewATf6zBK",
      "execution_count": null,
      "outputs": []
    },
    {
      "cell_type": "code",
      "metadata": {
        "id": "T73f8th_2E27",
        "colab": {
          "base_uri": "https://localhost:8080/"
        },
        "outputId": "44ed3528-a256-4a35-b2d0-e5c9c81c3cd4"
      },
      "source": [
        "gsv.best_params_"
      ],
      "id": "T73f8th_2E27",
      "execution_count": 50,
      "outputs": [
        {
          "output_type": "execute_result",
          "data": {
            "text/plain": [
              "{'algorithm': 'auto', 'n_neighbors': 3, 'weights': 'distance'}"
            ]
          },
          "metadata": {},
          "execution_count": 50
        }
      ]
    },
    {
      "cell_type": "code",
      "metadata": {
        "id": "R18LqJuI5qPS",
        "colab": {
          "base_uri": "https://localhost:8080/"
        },
        "outputId": "be256de7-ed24-4c5f-99ce-31372176732e"
      },
      "source": [
        "gsv.best_score_"
      ],
      "id": "R18LqJuI5qPS",
      "execution_count": 51,
      "outputs": [
        {
          "output_type": "execute_result",
          "data": {
            "text/plain": [
              "0.926530612244898"
            ]
          },
          "metadata": {},
          "execution_count": 51
        }
      ]
    },
    {
      "cell_type": "code",
      "metadata": {
        "id": "QYHUuFTU5vaY",
        "colab": {
          "base_uri": "https://localhost:8080/"
        },
        "outputId": "e1fd2ef0-9cbd-44b3-d7af-7334d5705031"
      },
      "source": [
        "%%time\n",
        "KNN=KNeighborsClassifier(weights ='distance',\n",
        " n_neighbors= 3,\n",
        " algorithm= 'auto')\n",
        "KNN.fit(x_train,y_train)"
      ],
      "id": "QYHUuFTU5vaY",
      "execution_count": 52,
      "outputs": [
        {
          "output_type": "stream",
          "name": "stdout",
          "text": [
            "CPU times: user 790 ms, sys: 5.97 ms, total: 796 ms\n",
            "Wall time: 798 ms\n"
          ]
        }
      ]
    },
    {
      "cell_type": "code",
      "metadata": {
        "id": "OxlJIBWC5-ER"
      },
      "source": [
        "y_pred=KNN.predict(x_test)"
      ],
      "id": "OxlJIBWC5-ER",
      "execution_count": 53,
      "outputs": []
    },
    {
      "cell_type": "code",
      "metadata": {
        "id": "PoY28sQS6Hi3",
        "colab": {
          "base_uri": "https://localhost:8080/"
        },
        "outputId": "fe685c0d-0e44-41b9-be31-1aa2e229f937"
      },
      "source": [
        "# Accuracy score of train and test data\n",
        "print(\"Train Data\",KNN.score(x_train,y_train)*100)\n",
        "print(\"Test Data\",KNN.score(x_test,y_test)*100)"
      ],
      "id": "PoY28sQS6Hi3",
      "execution_count": 54,
      "outputs": [
        {
          "output_type": "stream",
          "name": "stdout",
          "text": [
            "Train Data 99.27437641723355\n",
            "Test Data 93.43915343915344\n"
          ]
        }
      ]
    },
    {
      "cell_type": "code",
      "metadata": {
        "id": "T_GfKcsU6Qfw",
        "colab": {
          "base_uri": "https://localhost:8080/"
        },
        "outputId": "5f45034c-6ccf-4af2-9366-7aab23d46a86"
      },
      "source": [
        " #Confusion matrix\n",
        "print(confusion_matrix(y_test,y_pred))"
      ],
      "id": "T_GfKcsU6Qfw",
      "execution_count": 55,
      "outputs": [
        {
          "output_type": "stream",
          "name": "stdout",
          "text": [
            "[[ 18  57]\n",
            " [  5 865]]\n"
          ]
        }
      ]
    },
    {
      "cell_type": "code",
      "metadata": {
        "id": "weqEDSUO6iuB",
        "colab": {
          "base_uri": "https://localhost:8080/"
        },
        "outputId": "176eccfa-e5bd-4d68-bdd3-0f0108fbcc47"
      },
      "source": [
        "#Classification Report\n",
        "print(classification_report(y_test,y_pred))"
      ],
      "id": "weqEDSUO6iuB",
      "execution_count": 56,
      "outputs": [
        {
          "output_type": "stream",
          "name": "stdout",
          "text": [
            "              precision    recall  f1-score   support\n",
            "\n",
            "           0       0.78      0.24      0.37        75\n",
            "           1       0.94      0.99      0.97       870\n",
            "\n",
            "    accuracy                           0.93       945\n",
            "   macro avg       0.86      0.62      0.67       945\n",
            "weighted avg       0.93      0.93      0.92       945\n",
            "\n"
          ]
        }
      ]
    },
    {
      "cell_type": "markdown",
      "metadata": {
        "id": "LcVv-_gT6zRr"
      },
      "source": [
        "**Test Accuracy obtained from KNN is 93.43%**\n",
        "\n",
        "\n",
        "\n"
      ],
      "id": "LcVv-_gT6zRr"
    },
    {
      "cell_type": "markdown",
      "metadata": {
        "id": "xD0GxRLeO3-i"
      },
      "source": [
        "# 6.Conclusion"
      ],
      "id": "xD0GxRLeO3-i"
    },
    {
      "cell_type": "markdown",
      "metadata": {
        "id": "ccWHbGfFPFgc"
      },
      "source": [
        "**Test Accuracy obtained from LOGISTIC REGRESSION is 93.96%**\n",
        "\n",
        "**Test Accuracy obtained from DECISION TREE is 92.59%**\n",
        "\n",
        "**Test Accuracy obtained from KNN is 93.43%**\n",
        "\n"
      ],
      "id": "ccWHbGfFPFgc"
    },
    {
      "cell_type": "code",
      "metadata": {
        "id": "GSMkXGIsPjb2"
      },
      "source": [
        ""
      ],
      "id": "GSMkXGIsPjb2",
      "execution_count": 56,
      "outputs": []
    }
  ]
}
